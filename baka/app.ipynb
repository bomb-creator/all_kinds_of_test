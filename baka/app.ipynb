{
 "cells": [
  {
   "cell_type": "code",
   "execution_count": null,
   "id": "537451bb",
   "metadata": {},
   "outputs": [
    {
     "name": "stderr",
     "output_type": "stream",
     "text": [
      "771.77s - pydevd: Sending message related to process being replaced timed-out after 5 seconds\n"
     ]
    },
    {
     "name": "stdout",
     "output_type": "stream",
     "text": [
      "Requirement already satisfied: pip in /home/codespace/.python/current/lib/python3.12/site-packages (25.1.1)\n"
     ]
    }
   ],
   "source": [
    "!pip install --upgrade pip"
   ]
  },
  {
   "cell_type": "code",
   "execution_count": 15,
   "id": "0135d9b5",
   "metadata": {},
   "outputs": [
    {
     "name": "stdout",
     "output_type": "stream",
     "text": [
      "Installing required packages...\n"
     ]
    }
   ],
   "source": [
    "print(\"Installing required packages...\")"
   ]
  },
  {
   "cell_type": "code",
   "execution_count": 16,
   "id": "b1004a2b",
   "metadata": {},
   "outputs": [
    {
     "name": "stdout",
     "output_type": "stream",
     "text": [
      "25.1.1\n"
     ]
    }
   ],
   "source": [
    "import pip\n",
    "print(pip.__version__)"
   ]
  },
  {
   "cell_type": "code",
   "execution_count": 17,
   "id": "a5206c07",
   "metadata": {},
   "outputs": [
    {
     "ename": "UnboundLocalError",
     "evalue": "cannot access local variable 'child' where it is not associated with a value",
     "output_type": "error",
     "traceback": [
      "\u001b[31m---------------------------------------------------------------------------\u001b[39m",
      "\u001b[31mKeyboardInterrupt\u001b[39m                         Traceback (most recent call last)",
      "\u001b[36mFile \u001b[39m\u001b[32m~/.local/lib/python3.12/site-packages/IPython/utils/_process_posix.py:125\u001b[39m, in \u001b[36mProcessHandler.system\u001b[39m\u001b[34m(self, cmd)\u001b[39m\n\u001b[32m    124\u001b[39m \u001b[38;5;28;01melse\u001b[39;00m:\n\u001b[32m--> \u001b[39m\u001b[32m125\u001b[39m     child = \u001b[43mpexpect\u001b[49m\u001b[43m.\u001b[49m\u001b[43mspawn\u001b[49m\u001b[43m(\u001b[49m\u001b[38;5;28;43mself\u001b[39;49m\u001b[43m.\u001b[49m\u001b[43msh\u001b[49m\u001b[43m,\u001b[49m\u001b[43m \u001b[49m\u001b[43margs\u001b[49m\u001b[43m=\u001b[49m\u001b[43m[\u001b[49m\u001b[33;43m'\u001b[39;49m\u001b[33;43m-c\u001b[39;49m\u001b[33;43m'\u001b[39;49m\u001b[43m,\u001b[49m\u001b[43m \u001b[49m\u001b[43mcmd\u001b[49m\u001b[43m]\u001b[49m\u001b[43m)\u001b[49m  \u001b[38;5;66;03m# Vanilla Pexpect\u001b[39;00m\n\u001b[32m    126\u001b[39m flush = sys.stdout.flush\n",
      "\u001b[36mFile \u001b[39m\u001b[32m~/.local/lib/python3.12/site-packages/pexpect/pty_spawn.py:205\u001b[39m, in \u001b[36mspawn.__init__\u001b[39m\u001b[34m(self, command, args, timeout, maxread, searchwindowsize, logfile, cwd, env, ignore_sighup, echo, preexec_fn, encoding, codec_errors, dimensions, use_poll)\u001b[39m\n\u001b[32m    204\u001b[39m \u001b[38;5;28;01melse\u001b[39;00m:\n\u001b[32m--> \u001b[39m\u001b[32m205\u001b[39m     \u001b[38;5;28;43mself\u001b[39;49m\u001b[43m.\u001b[49m\u001b[43m_spawn\u001b[49m\u001b[43m(\u001b[49m\u001b[43mcommand\u001b[49m\u001b[43m,\u001b[49m\u001b[43m \u001b[49m\u001b[43margs\u001b[49m\u001b[43m,\u001b[49m\u001b[43m \u001b[49m\u001b[43mpreexec_fn\u001b[49m\u001b[43m,\u001b[49m\u001b[43m \u001b[49m\u001b[43mdimensions\u001b[49m\u001b[43m)\u001b[49m\n\u001b[32m    206\u001b[39m \u001b[38;5;28mself\u001b[39m.use_poll = use_poll\n",
      "\u001b[36mFile \u001b[39m\u001b[32m~/.local/lib/python3.12/site-packages/pexpect/pty_spawn.py:303\u001b[39m, in \u001b[36mspawn._spawn\u001b[39m\u001b[34m(self, command, args, preexec_fn, dimensions)\u001b[39m\n\u001b[32m    300\u001b[39m     \u001b[38;5;28mself\u001b[39m.args = [a \u001b[38;5;28;01mif\u001b[39;00m \u001b[38;5;28misinstance\u001b[39m(a, \u001b[38;5;28mbytes\u001b[39m) \u001b[38;5;28;01melse\u001b[39;00m a.encode(\u001b[38;5;28mself\u001b[39m.encoding)\n\u001b[32m    301\u001b[39m                  \u001b[38;5;28;01mfor\u001b[39;00m a \u001b[38;5;129;01min\u001b[39;00m \u001b[38;5;28mself\u001b[39m.args]\n\u001b[32m--> \u001b[39m\u001b[32m303\u001b[39m \u001b[38;5;28mself\u001b[39m.ptyproc = \u001b[38;5;28;43mself\u001b[39;49m\u001b[43m.\u001b[49m\u001b[43m_spawnpty\u001b[49m\u001b[43m(\u001b[49m\u001b[38;5;28;43mself\u001b[39;49m\u001b[43m.\u001b[49m\u001b[43margs\u001b[49m\u001b[43m,\u001b[49m\u001b[43m \u001b[49m\u001b[43menv\u001b[49m\u001b[43m=\u001b[49m\u001b[38;5;28;43mself\u001b[39;49m\u001b[43m.\u001b[49m\u001b[43menv\u001b[49m\u001b[43m,\u001b[49m\n\u001b[32m    304\u001b[39m \u001b[43m                             \u001b[49m\u001b[43mcwd\u001b[49m\u001b[43m=\u001b[49m\u001b[38;5;28;43mself\u001b[39;49m\u001b[43m.\u001b[49m\u001b[43mcwd\u001b[49m\u001b[43m,\u001b[49m\u001b[43m \u001b[49m\u001b[43m*\u001b[49m\u001b[43m*\u001b[49m\u001b[43mkwargs\u001b[49m\u001b[43m)\u001b[49m\n\u001b[32m    306\u001b[39m \u001b[38;5;28mself\u001b[39m.pid = \u001b[38;5;28mself\u001b[39m.ptyproc.pid\n",
      "\u001b[36mFile \u001b[39m\u001b[32m~/.local/lib/python3.12/site-packages/pexpect/pty_spawn.py:315\u001b[39m, in \u001b[36mspawn._spawnpty\u001b[39m\u001b[34m(self, args, **kwargs)\u001b[39m\n\u001b[32m    314\u001b[39m \u001b[38;5;250m\u001b[39m\u001b[33;03m'''Spawn a pty and return an instance of PtyProcess.'''\u001b[39;00m\n\u001b[32m--> \u001b[39m\u001b[32m315\u001b[39m \u001b[38;5;28;01mreturn\u001b[39;00m \u001b[43mptyprocess\u001b[49m\u001b[43m.\u001b[49m\u001b[43mPtyProcess\u001b[49m\u001b[43m.\u001b[49m\u001b[43mspawn\u001b[49m\u001b[43m(\u001b[49m\u001b[43margs\u001b[49m\u001b[43m,\u001b[49m\u001b[43m \u001b[49m\u001b[43m*\u001b[49m\u001b[43m*\u001b[49m\u001b[43mkwargs\u001b[49m\u001b[43m)\u001b[49m\n",
      "\u001b[36mFile \u001b[39m\u001b[32m~/.local/lib/python3.12/site-packages/ptyprocess/ptyprocess.py:315\u001b[39m, in \u001b[36mPtyProcess.spawn\u001b[39m\u001b[34m(cls, argv, cwd, env, echo, preexec_fn, dimensions, pass_fds)\u001b[39m\n\u001b[32m    314\u001b[39m os.close(exec_err_pipe_write)\n\u001b[32m--> \u001b[39m\u001b[32m315\u001b[39m exec_err_data = \u001b[43mos\u001b[49m\u001b[43m.\u001b[49m\u001b[43mread\u001b[49m\u001b[43m(\u001b[49m\u001b[43mexec_err_pipe_read\u001b[49m\u001b[43m,\u001b[49m\u001b[43m \u001b[49m\u001b[32;43m4096\u001b[39;49m\u001b[43m)\u001b[49m\n\u001b[32m    316\u001b[39m os.close(exec_err_pipe_read)\n",
      "\u001b[31mKeyboardInterrupt\u001b[39m: ",
      "\nDuring handling of the above exception, another exception occurred:\n",
      "\u001b[31mUnboundLocalError\u001b[39m                         Traceback (most recent call last)",
      "\u001b[36mCell\u001b[39m\u001b[36m \u001b[39m\u001b[32mIn[17]\u001b[39m\u001b[32m, line 1\u001b[39m\n\u001b[32m----> \u001b[39m\u001b[32m1\u001b[39m \u001b[43mget_ipython\u001b[49m\u001b[43m(\u001b[49m\u001b[43m)\u001b[49m\u001b[43m.\u001b[49m\u001b[43msystem\u001b[49m\u001b[43m(\u001b[49m\u001b[33;43m'\u001b[39;49m\u001b[33;43mpip --version\u001b[39;49m\u001b[33;43m'\u001b[39;49m\u001b[43m)\u001b[49m\n",
      "\u001b[36mFile \u001b[39m\u001b[32m~/.local/lib/python3.12/site-packages/ipykernel/zmqshell.py:657\u001b[39m, in \u001b[36mZMQInteractiveShell.system_piped\u001b[39m\u001b[34m(self, cmd)\u001b[39m\n\u001b[32m    655\u001b[39m         \u001b[38;5;28mself\u001b[39m.user_ns[\u001b[33m\"\u001b[39m\u001b[33m_exit_code\u001b[39m\u001b[33m\"\u001b[39m] = system(cmd)\n\u001b[32m    656\u001b[39m \u001b[38;5;28;01melse\u001b[39;00m:\n\u001b[32m--> \u001b[39m\u001b[32m657\u001b[39m     \u001b[38;5;28mself\u001b[39m.user_ns[\u001b[33m\"\u001b[39m\u001b[33m_exit_code\u001b[39m\u001b[33m\"\u001b[39m] = \u001b[43msystem\u001b[49m\u001b[43m(\u001b[49m\u001b[38;5;28;43mself\u001b[39;49m\u001b[43m.\u001b[49m\u001b[43mvar_expand\u001b[49m\u001b[43m(\u001b[49m\u001b[43mcmd\u001b[49m\u001b[43m,\u001b[49m\u001b[43m \u001b[49m\u001b[43mdepth\u001b[49m\u001b[43m=\u001b[49m\u001b[32;43m1\u001b[39;49m\u001b[43m)\u001b[49m\u001b[43m)\u001b[49m\n",
      "\u001b[36mFile \u001b[39m\u001b[32m~/.local/lib/python3.12/site-packages/IPython/utils/_process_posix.py:141\u001b[39m, in \u001b[36mProcessHandler.system\u001b[39m\u001b[34m(self, cmd)\u001b[39m\n\u001b[32m    136\u001b[39m         out_size = \u001b[38;5;28mlen\u001b[39m(child.before)\n\u001b[32m    137\u001b[39m \u001b[38;5;28;01mexcept\u001b[39;00m \u001b[38;5;167;01mKeyboardInterrupt\u001b[39;00m:\n\u001b[32m    138\u001b[39m     \u001b[38;5;66;03m# We need to send ^C to the process.  The ascii code for '^C' is 3\u001b[39;00m\n\u001b[32m    139\u001b[39m     \u001b[38;5;66;03m# (the character is known as ETX for 'End of Text', see\u001b[39;00m\n\u001b[32m    140\u001b[39m     \u001b[38;5;66;03m# curses.ascii.ETX).\u001b[39;00m\n\u001b[32m--> \u001b[39m\u001b[32m141\u001b[39m     \u001b[43mchild\u001b[49m.sendline(\u001b[38;5;28mchr\u001b[39m(\u001b[32m3\u001b[39m))\n\u001b[32m    142\u001b[39m     \u001b[38;5;66;03m# Read and print any more output the program might produce on its\u001b[39;00m\n\u001b[32m    143\u001b[39m     \u001b[38;5;66;03m# way out.\u001b[39;00m\n\u001b[32m    144\u001b[39m     \u001b[38;5;28;01mtry\u001b[39;00m:\n",
      "\u001b[31mUnboundLocalError\u001b[39m: cannot access local variable 'child' where it is not associated with a value"
     ]
    },
    {
     "name": "stderr",
     "output_type": "stream",
     "text": [
      "--- Logging error ---\n",
      "Traceback (most recent call last):\n",
      "  File \"/home/codespace/.local/lib/python3.12/site-packages/IPython/utils/_process_posix.py\", line 125, in system\n",
      "    child = pexpect.spawn(self.sh, args=['-c', cmd])  # Vanilla Pexpect\n",
      "            ^^^^^^^^^^^^^^^^^^^^^^^^^^^^^^^^^^^^^^^^\n",
      "  File \"/home/codespace/.local/lib/python3.12/site-packages/pexpect/pty_spawn.py\", line 205, in __init__\n",
      "    self._spawn(command, args, preexec_fn, dimensions)\n",
      "  File \"/home/codespace/.local/lib/python3.12/site-packages/pexpect/pty_spawn.py\", line 303, in _spawn\n",
      "    self.ptyproc = self._spawnpty(self.args, env=self.env,\n",
      "                   ^^^^^^^^^^^^^^^^^^^^^^^^^^^^^^^^^^^^^^^\n",
      "  File \"/home/codespace/.local/lib/python3.12/site-packages/pexpect/pty_spawn.py\", line 315, in _spawnpty\n",
      "    return ptyprocess.PtyProcess.spawn(args, **kwargs)\n",
      "           ^^^^^^^^^^^^^^^^^^^^^^^^^^^^^^^^^^^^^^^^^^^\n",
      "  File \"/home/codespace/.local/lib/python3.12/site-packages/ptyprocess/ptyprocess.py\", line 289, in spawn\n",
      "    os.execv(command, argv)\n",
      "  File \"/home/codespace/.local/lib/python3.12/site-packages/debugpy/_vendored/pydevd/_pydev_bundle/pydev_monkey.py\", line 743, in new_execv\n",
      "    send_process_about_to_be_replaced()\n",
      "  File \"/home/codespace/.local/lib/python3.12/site-packages/debugpy/_vendored/pydevd/_pydev_bundle/pydev_monkey.py\", line 985, in send_process_about_to_be_replaced\n",
      "    py_db.send_process_about_to_be_replaced()\n",
      "  File \"/home/codespace/.local/lib/python3.12/site-packages/debugpy/_vendored/pydevd/pydevd.py\", line 2046, in send_process_about_to_be_replaced\n",
      "    time.sleep(0.05)\n",
      "KeyboardInterrupt\n",
      "\n",
      "During handling of the above exception, another exception occurred:\n",
      "\n",
      "Traceback (most recent call last):\n",
      "  File \"/home/codespace/.local/lib/python3.12/site-packages/IPython/core/interactiveshell.py\", line 3549, in run_code\n",
      "    exec(code_obj, self.user_global_ns, self.user_ns)\n",
      "  File \"/tmp/ipykernel_11602/4286250009.py\", line 1, in <module>\n",
      "    get_ipython().system('pip --version')\n",
      "  File \"/home/codespace/.local/lib/python3.12/site-packages/ipykernel/zmqshell.py\", line 657, in system_piped\n",
      "    self.user_ns[\"_exit_code\"] = system(self.var_expand(cmd, depth=1))\n",
      "                                 ^^^^^^^^^^^^^^^^^^^^^^^^^^^^^^^^^^^^^\n",
      "  File \"/home/codespace/.local/lib/python3.12/site-packages/IPython/utils/_process_posix.py\", line 141, in system\n",
      "    child.sendline(chr(3))\n",
      "    ^^^^^\n",
      "UnboundLocalError: cannot access local variable 'child' where it is not associated with a value\n",
      "\n",
      "During handling of the above exception, another exception occurred:\n",
      "\n",
      "Traceback (most recent call last):\n",
      "  File \"/home/codespace/.python/current/lib/python3.12/logging/__init__.py\", line 1163, in emit\n",
      "    stream.write(msg + self.terminator)\n",
      "OSError: [Errno 9] Bad file descriptor\n",
      "Call stack:\n",
      "  File \"<frozen runpy>\", line 198, in _run_module_as_main\n",
      "  File \"<frozen runpy>\", line 88, in _run_code\n",
      "  File \"/home/codespace/.local/lib/python3.12/site-packages/ipykernel_launcher.py\", line 18, in <module>\n",
      "    app.launch_new_instance()\n",
      "  File \"/home/codespace/.local/lib/python3.12/site-packages/traitlets/config/application.py\", line 1075, in launch_instance\n",
      "    app.start()\n",
      "  File \"/home/codespace/.local/lib/python3.12/site-packages/ipykernel/kernelapp.py\", line 739, in start\n",
      "    self.io_loop.start()\n",
      "  File \"/home/codespace/.local/lib/python3.12/site-packages/tornado/platform/asyncio.py\", line 205, in start\n",
      "    self.asyncio_loop.run_forever()\n",
      "  File \"/home/codespace/.python/current/lib/python3.12/asyncio/base_events.py\", line 638, in run_forever\n",
      "    self._run_once()\n",
      "  File \"/home/codespace/.python/current/lib/python3.12/asyncio/base_events.py\", line 1971, in _run_once\n",
      "    handle._run()\n",
      "  File \"/home/codespace/.python/current/lib/python3.12/asyncio/events.py\", line 84, in _run\n",
      "    self._context.run(self._callback, *self._args)\n",
      "  File \"/home/codespace/.local/lib/python3.12/site-packages/ipykernel/kernelbase.py\", line 545, in dispatch_queue\n",
      "    await self.process_one()\n",
      "  File \"/home/codespace/.local/lib/python3.12/site-packages/ipykernel/kernelbase.py\", line 534, in process_one\n",
      "    await dispatch(*args)\n",
      "  File \"/home/codespace/.local/lib/python3.12/site-packages/ipykernel/kernelbase.py\", line 437, in dispatch_shell\n",
      "    await result\n",
      "  File \"/home/codespace/.local/lib/python3.12/site-packages/ipykernel/ipkernel.py\", line 362, in execute_request\n",
      "    await super().execute_request(stream, ident, parent)\n",
      "  File \"/home/codespace/.local/lib/python3.12/site-packages/ipykernel/kernelbase.py\", line 778, in execute_request\n",
      "    reply_content = await reply_content\n",
      "  File \"/home/codespace/.local/lib/python3.12/site-packages/ipykernel/ipkernel.py\", line 449, in do_execute\n",
      "    res = shell.run_cell(\n",
      "  File \"/home/codespace/.local/lib/python3.12/site-packages/ipykernel/zmqshell.py\", line 549, in run_cell\n",
      "    return super().run_cell(*args, **kwargs)\n",
      "  File \"/home/codespace/.local/lib/python3.12/site-packages/IPython/core/interactiveshell.py\", line 3047, in run_cell\n",
      "    result = self._run_cell(\n",
      "  File \"/home/codespace/.local/lib/python3.12/site-packages/IPython/core/interactiveshell.py\", line 3102, in _run_cell\n",
      "    result = runner(coro)\n",
      "  File \"/home/codespace/.local/lib/python3.12/site-packages/IPython/core/async_helpers.py\", line 128, in _pseudo_sync_runner\n",
      "    coro.send(None)\n",
      "  File \"/home/codespace/.local/lib/python3.12/site-packages/IPython/core/interactiveshell.py\", line 3306, in run_cell_async\n",
      "    has_raised = await self.run_ast_nodes(code_ast.body, cell_name,\n",
      "  File \"/home/codespace/.local/lib/python3.12/site-packages/IPython/core/interactiveshell.py\", line 3489, in run_ast_nodes\n",
      "    if await self.run_code(code, result, async_=asy):\n",
      "  File \"/home/codespace/.local/lib/python3.12/site-packages/IPython/core/interactiveshell.py\", line 3571, in run_code\n",
      "    self.showtraceback(running_compiled_code=True)\n",
      "  File \"/home/codespace/.local/lib/python3.12/site-packages/IPython/core/interactiveshell.py\", line 2184, in showtraceback\n",
      "    self._showtraceback(etype, value, stb)\n",
      "  File \"/home/codespace/.local/lib/python3.12/site-packages/ipykernel/zmqshell.py\", line 569, in _showtraceback\n",
      "    dh.session.send(  # type:ignore[attr-defined]\n",
      "  File \"/home/codespace/.local/lib/python3.12/site-packages/jupyter_client/session.py\", line 831, in send\n",
      "    get_logger().warning(\"WARNING: attempted to send message from fork\\n%s\", msg)\n",
      "Message: 'WARNING: attempted to send message from fork\\n%s'\n",
      "Arguments: {'header': {'msg_id': '6a069dbe-5934df25b9136e0868f5dea7_17147_358', 'msg_type': 'error', 'username': 'codespace', 'session': '6a069dbe-5934df25b9136e0868f5dea7', 'date': datetime.datetime(2025, 6, 12, 6, 41, 39, 255073, tzinfo=datetime.timezone.utc), 'version': '5.3'}, 'msg_id': '6a069dbe-5934df25b9136e0868f5dea7_17147_358', 'msg_type': 'error', 'parent_header': {'date': datetime.datetime(2025, 6, 12, 6, 41, 36, 332000, tzinfo=tzutc()), 'msg_id': '6db8eb5d-a387-4a94-a4b8-1cc08c7592b1', 'msg_type': 'execute_request', 'session': 'ec897a5e-97ef-4c27-b033-e4c3580b90b1', 'username': '16fa219d-9458-43b8-bc11-19b995a6a0c8', 'version': '5.2'}, 'content': {'traceback': ['\\x1b[31m---------------------------------------------------------------------------\\x1b[39m', '\\x1b[31mKeyboardInterrupt\\x1b[39m                         Traceback (most recent call last)', \"\\x1b[36mFile \\x1b[39m\\x1b[32m~/.local/lib/python3.12/site-packages/IPython/utils/_process_posix.py:125\\x1b[39m, in \\x1b[36mProcessHandler.system\\x1b[39m\\x1b[34m(self, cmd)\\x1b[39m\\n\\x1b[32m    124\\x1b[39m \\x1b[38;5;28;01melse\\x1b[39;00m:\\n\\x1b[32m--> \\x1b[39m\\x1b[32m125\\x1b[39m     child = \\x1b[43mpexpect\\x1b[49m\\x1b[43m.\\x1b[49m\\x1b[43mspawn\\x1b[49m\\x1b[43m(\\x1b[49m\\x1b[38;5;28;43mself\\x1b[39;49m\\x1b[43m.\\x1b[49m\\x1b[43msh\\x1b[49m\\x1b[43m,\\x1b[49m\\x1b[43m \\x1b[49m\\x1b[43margs\\x1b[49m\\x1b[43m=\\x1b[49m\\x1b[43m[\\x1b[49m\\x1b[33;43m'\\x1b[39;49m\\x1b[33;43m-c\\x1b[39;49m\\x1b[33;43m'\\x1b[39;49m\\x1b[43m,\\x1b[49m\\x1b[43m \\x1b[49m\\x1b[43mcmd\\x1b[49m\\x1b[43m]\\x1b[49m\\x1b[43m)\\x1b[49m  \\x1b[38;5;66;03m# Vanilla Pexpect\\x1b[39;00m\\n\\x1b[32m    126\\x1b[39m flush = sys.stdout.flush\\n\", '\\x1b[36mFile \\x1b[39m\\x1b[32m~/.local/lib/python3.12/site-packages/pexpect/pty_spawn.py:205\\x1b[39m, in \\x1b[36mspawn.__init__\\x1b[39m\\x1b[34m(self, command, args, timeout, maxread, searchwindowsize, logfile, cwd, env, ignore_sighup, echo, preexec_fn, encoding, codec_errors, dimensions, use_poll)\\x1b[39m\\n\\x1b[32m    204\\x1b[39m \\x1b[38;5;28;01melse\\x1b[39;00m:\\n\\x1b[32m--> \\x1b[39m\\x1b[32m205\\x1b[39m     \\x1b[38;5;28;43mself\\x1b[39;49m\\x1b[43m.\\x1b[49m\\x1b[43m_spawn\\x1b[49m\\x1b[43m(\\x1b[49m\\x1b[43mcommand\\x1b[49m\\x1b[43m,\\x1b[49m\\x1b[43m \\x1b[49m\\x1b[43margs\\x1b[49m\\x1b[43m,\\x1b[49m\\x1b[43m \\x1b[49m\\x1b[43mpreexec_fn\\x1b[49m\\x1b[43m,\\x1b[49m\\x1b[43m \\x1b[49m\\x1b[43mdimensions\\x1b[49m\\x1b[43m)\\x1b[49m\\n\\x1b[32m    206\\x1b[39m \\x1b[38;5;28mself\\x1b[39m.use_poll = use_poll\\n', '\\x1b[36mFile \\x1b[39m\\x1b[32m~/.local/lib/python3.12/site-packages/pexpect/pty_spawn.py:303\\x1b[39m, in \\x1b[36mspawn._spawn\\x1b[39m\\x1b[34m(self, command, args, preexec_fn, dimensions)\\x1b[39m\\n\\x1b[32m    300\\x1b[39m     \\x1b[38;5;28mself\\x1b[39m.args = [a \\x1b[38;5;28;01mif\\x1b[39;00m \\x1b[38;5;28misinstance\\x1b[39m(a, \\x1b[38;5;28mbytes\\x1b[39m) \\x1b[38;5;28;01melse\\x1b[39;00m a.encode(\\x1b[38;5;28mself\\x1b[39m.encoding)\\n\\x1b[32m    301\\x1b[39m                  \\x1b[38;5;28;01mfor\\x1b[39;00m a \\x1b[38;5;129;01min\\x1b[39;00m \\x1b[38;5;28mself\\x1b[39m.args]\\n\\x1b[32m--> \\x1b[39m\\x1b[32m303\\x1b[39m \\x1b[38;5;28mself\\x1b[39m.ptyproc = \\x1b[38;5;28;43mself\\x1b[39;49m\\x1b[43m.\\x1b[49m\\x1b[43m_spawnpty\\x1b[49m\\x1b[43m(\\x1b[49m\\x1b[38;5;28;43mself\\x1b[39;49m\\x1b[43m.\\x1b[49m\\x1b[43margs\\x1b[49m\\x1b[43m,\\x1b[49m\\x1b[43m \\x1b[49m\\x1b[43menv\\x1b[49m\\x1b[43m=\\x1b[49m\\x1b[38;5;28;43mself\\x1b[39;49m\\x1b[43m.\\x1b[49m\\x1b[43menv\\x1b[49m\\x1b[43m,\\x1b[49m\\n\\x1b[32m    304\\x1b[39m \\x1b[43m                             \\x1b[49m\\x1b[43mcwd\\x1b[49m\\x1b[43m=\\x1b[49m\\x1b[38;5;28;43mself\\x1b[39;49m\\x1b[43m.\\x1b[49m\\x1b[43mcwd\\x1b[49m\\x1b[43m,\\x1b[49m\\x1b[43m \\x1b[49m\\x1b[43m*\\x1b[49m\\x1b[43m*\\x1b[49m\\x1b[43mkwargs\\x1b[49m\\x1b[43m)\\x1b[49m\\n\\x1b[32m    306\\x1b[39m \\x1b[38;5;28mself\\x1b[39m.pid = \\x1b[38;5;28mself\\x1b[39m.ptyproc.pid\\n', \"\\x1b[36mFile \\x1b[39m\\x1b[32m~/.local/lib/python3.12/site-packages/pexpect/pty_spawn.py:315\\x1b[39m, in \\x1b[36mspawn._spawnpty\\x1b[39m\\x1b[34m(self, args, **kwargs)\\x1b[39m\\n\\x1b[32m    314\\x1b[39m \\x1b[38;5;250m\\x1b[39m\\x1b[33;03m'''Spawn a pty and return an instance of PtyProcess.'''\\x1b[39;00m\\n\\x1b[32m--> \\x1b[39m\\x1b[32m315\\x1b[39m \\x1b[38;5;28;01mreturn\\x1b[39;00m \\x1b[43mptyprocess\\x1b[49m\\x1b[43m.\\x1b[49m\\x1b[43mPtyProcess\\x1b[49m\\x1b[43m.\\x1b[49m\\x1b[43mspawn\\x1b[49m\\x1b[43m(\\x1b[49m\\x1b[43margs\\x1b[49m\\x1b[43m,\\x1b[49m\\x1b[43m \\x1b[49m\\x1b[43m*\\x1b[49m\\x1b[43m*\\x1b[49m\\x1b[43mkwargs\\x1b[49m\\x1b[43m)\\x1b[49m\\n\", '\\x1b[36mFile \\x1b[39m\\x1b[32m~/.local/lib/python3.12/site-packages/ptyprocess/ptyprocess.py:289\\x1b[39m, in \\x1b[36mPtyProcess.spawn\\x1b[39m\\x1b[34m(cls, argv, cwd, env, echo, preexec_fn, dimensions, pass_fds)\\x1b[39m\\n\\x1b[32m    288\\x1b[39m \\x1b[38;5;28;01mif\\x1b[39;00m env \\x1b[38;5;129;01mis\\x1b[39;00m \\x1b[38;5;28;01mNone\\x1b[39;00m:\\n\\x1b[32m--> \\x1b[39m\\x1b[32m289\\x1b[39m     \\x1b[43mos\\x1b[49m\\x1b[43m.\\x1b[49m\\x1b[43mexecv\\x1b[49m\\x1b[43m(\\x1b[49m\\x1b[43mcommand\\x1b[49m\\x1b[43m,\\x1b[49m\\x1b[43m \\x1b[49m\\x1b[43margv\\x1b[49m\\x1b[43m)\\x1b[49m\\n\\x1b[32m    290\\x1b[39m \\x1b[38;5;28;01melse\\x1b[39;00m:\\n', '\\x1b[36mFile \\x1b[39m\\x1b[32m~/.local/lib/python3.12/site-packages/debugpy/_vendored/pydevd/_pydev_bundle/pydev_monkey.py:743\\x1b[39m, in \\x1b[36mcreate_execv.<locals>.new_execv\\x1b[39m\\x1b[34m(path, args)\\x1b[39m\\n\\x1b[32m    742\\x1b[39m     send_process_created_message()\\n\\x1b[32m--> \\x1b[39m\\x1b[32m743\\x1b[39m     \\x1b[43msend_process_about_to_be_replaced\\x1b[49m\\x1b[43m(\\x1b[49m\\x1b[43m)\\x1b[49m\\n\\x1b[32m    745\\x1b[39m \\x1b[38;5;28;01mreturn\\x1b[39;00m \\x1b[38;5;28mgetattr\\x1b[39m(os, original_name)(path, args)\\n', '\\x1b[36mFile \\x1b[39m\\x1b[32m~/.local/lib/python3.12/site-packages/debugpy/_vendored/pydevd/_pydev_bundle/pydev_monkey.py:985\\x1b[39m, in \\x1b[36msend_process_about_to_be_replaced\\x1b[39m\\x1b[34m()\\x1b[39m\\n\\x1b[32m    984\\x1b[39m \\x1b[38;5;28;01mif\\x1b[39;00m py_db \\x1b[38;5;129;01mis\\x1b[39;00m \\x1b[38;5;129;01mnot\\x1b[39;00m \\x1b[38;5;28;01mNone\\x1b[39;00m:\\n\\x1b[32m--> \\x1b[39m\\x1b[32m985\\x1b[39m     \\x1b[43mpy_db\\x1b[49m\\x1b[43m.\\x1b[49m\\x1b[43msend_process_about_to_be_replaced\\x1b[49m\\x1b[43m(\\x1b[49m\\x1b[43m)\\x1b[49m\\n', '\\x1b[36mFile \\x1b[39m\\x1b[32m~/.local/lib/python3.12/site-packages/debugpy/_vendored/pydevd/pydevd.py:2046\\x1b[39m, in \\x1b[36mPyDB.send_process_about_to_be_replaced\\x1b[39m\\x1b[34m(self)\\x1b[39m\\n\\x1b[32m   2045\\x1b[39m \\x1b[38;5;28;01mwhile\\x1b[39;00m \\x1b[38;5;129;01mnot\\x1b[39;00m sent[\\x1b[32m0\\x1b[39m]:\\n\\x1b[32m-> \\x1b[39m\\x1b[32m2046\\x1b[39m     \\x1b[43mtime\\x1b[49m\\x1b[43m.\\x1b[49m\\x1b[43msleep\\x1b[49m\\x1b[43m(\\x1b[49m\\x1b[32;43m0.05\\x1b[39;49m\\x1b[43m)\\x1b[49m\\n\\x1b[32m   2048\\x1b[39m     \\x1b[38;5;28;01mif\\x1b[39;00m (time.time() - initial_time) > timeout:\\n', '\\x1b[31mKeyboardInterrupt\\x1b[39m: ', '\\nDuring handling of the above exception, another exception occurred:\\n', '\\x1b[31mUnboundLocalError\\x1b[39m                         Traceback (most recent call last)', \"\\x1b[36mCell\\x1b[39m\\x1b[36m \\x1b[39m\\x1b[32mIn[17]\\x1b[39m\\x1b[32m, line 1\\x1b[39m\\n\\x1b[32m----> \\x1b[39m\\x1b[32m1\\x1b[39m \\x1b[43mget_ipython\\x1b[49m\\x1b[43m(\\x1b[49m\\x1b[43m)\\x1b[49m\\x1b[43m.\\x1b[49m\\x1b[43msystem\\x1b[49m\\x1b[43m(\\x1b[49m\\x1b[33;43m'\\x1b[39;49m\\x1b[33;43mpip --version\\x1b[39;49m\\x1b[33;43m'\\x1b[39;49m\\x1b[43m)\\x1b[49m\\n\", '\\x1b[36mFile \\x1b[39m\\x1b[32m~/.local/lib/python3.12/site-packages/ipykernel/zmqshell.py:657\\x1b[39m, in \\x1b[36mZMQInteractiveShell.system_piped\\x1b[39m\\x1b[34m(self, cmd)\\x1b[39m\\n\\x1b[32m    655\\x1b[39m         \\x1b[38;5;28mself\\x1b[39m.user_ns[\\x1b[33m\"\\x1b[39m\\x1b[33m_exit_code\\x1b[39m\\x1b[33m\"\\x1b[39m] = system(cmd)\\n\\x1b[32m    656\\x1b[39m \\x1b[38;5;28;01melse\\x1b[39;00m:\\n\\x1b[32m--> \\x1b[39m\\x1b[32m657\\x1b[39m     \\x1b[38;5;28mself\\x1b[39m.user_ns[\\x1b[33m\"\\x1b[39m\\x1b[33m_exit_code\\x1b[39m\\x1b[33m\"\\x1b[39m] = \\x1b[43msystem\\x1b[49m\\x1b[43m(\\x1b[49m\\x1b[38;5;28;43mself\\x1b[39;49m\\x1b[43m.\\x1b[49m\\x1b[43mvar_expand\\x1b[49m\\x1b[43m(\\x1b[49m\\x1b[43mcmd\\x1b[49m\\x1b[43m,\\x1b[49m\\x1b[43m \\x1b[49m\\x1b[43mdepth\\x1b[49m\\x1b[43m=\\x1b[49m\\x1b[32;43m1\\x1b[39;49m\\x1b[43m)\\x1b[49m\\x1b[43m)\\x1b[49m\\n', \"\\x1b[36mFile \\x1b[39m\\x1b[32m~/.local/lib/python3.12/site-packages/IPython/utils/_process_posix.py:141\\x1b[39m, in \\x1b[36mProcessHandler.system\\x1b[39m\\x1b[34m(self, cmd)\\x1b[39m\\n\\x1b[32m    136\\x1b[39m         out_size = \\x1b[38;5;28mlen\\x1b[39m(child.before)\\n\\x1b[32m    137\\x1b[39m \\x1b[38;5;28;01mexcept\\x1b[39;00m \\x1b[38;5;167;01mKeyboardInterrupt\\x1b[39;00m:\\n\\x1b[32m    138\\x1b[39m     \\x1b[38;5;66;03m# We need to send ^C to the process.  The ascii code for '^C' is 3\\x1b[39;00m\\n\\x1b[32m    139\\x1b[39m     \\x1b[38;5;66;03m# (the character is known as ETX for 'End of Text', see\\x1b[39;00m\\n\\x1b[32m    140\\x1b[39m     \\x1b[38;5;66;03m# curses.ascii.ETX).\\x1b[39;00m\\n\\x1b[32m--> \\x1b[39m\\x1b[32m141\\x1b[39m     \\x1b[43mchild\\x1b[49m.sendline(\\x1b[38;5;28mchr\\x1b[39m(\\x1b[32m3\\x1b[39m))\\n\\x1b[32m    142\\x1b[39m     \\x1b[38;5;66;03m# Read and print any more output the program might produce on its\\x1b[39;00m\\n\\x1b[32m    143\\x1b[39m     \\x1b[38;5;66;03m# way out.\\x1b[39;00m\\n\\x1b[32m    144\\x1b[39m     \\x1b[38;5;28;01mtry\\x1b[39;00m:\\n\", \"\\x1b[31mUnboundLocalError\\x1b[39m: cannot access local variable 'child' where it is not associated with a value\"], 'ename': 'UnboundLocalError', 'evalue': \"cannot access local variable 'child' where it is not associated with a value\"}, 'metadata': {}}\n"
     ]
    }
   ],
   "source": [
    "!pip --version"
   ]
  },
  {
   "cell_type": "code",
   "execution_count": null,
   "id": "2560e1f2",
   "metadata": {},
   "outputs": [
    {
     "name": "stderr",
     "output_type": "stream",
     "text": [
      "220.51s - pydevd: Sending message related to process being replaced timed-out after 5 seconds\n"
     ]
    },
    {
     "name": "stdout",
     "output_type": "stream",
     "text": [
      "Package                   Version\n",
      "------------------------- --------------\n",
      "accelerate                1.7.0\n",
      "aiohappyeyeballs          2.6.1\n",
      "aiohttp                   3.12.12\n",
      "aiosignal                 1.3.2\n",
      "anyio                     4.9.0\n",
      "argon2-cffi               23.1.0\n",
      "argon2-cffi-bindings      21.2.0\n",
      "arrow                     1.3.0\n",
      "asttokens                 3.0.0\n",
      "async-lru                 2.0.5\n",
      "attrs                     25.3.0\n",
      "babel                     2.17.0\n",
      "beautifulsoup4            4.13.3\n",
      "bleach                    6.2.0\n",
      "certifi                   2025.1.31\n",
      "cffi                      1.17.1\n",
      "charset-normalizer        3.4.1\n",
      "colorama                  0.4.6\n",
      "comm                      0.2.2\n",
      "contourpy                 1.3.1\n",
      "cycler                    0.12.1\n",
      "datasets                  3.6.0\n",
      "debugpy                   1.8.13\n",
      "decorator                 5.2.1\n",
      "defusedxml                0.7.1\n",
      "dill                      0.3.8\n",
      "executing                 2.2.0\n",
      "fastjsonschema            2.21.1\n",
      "filelock                  3.13.1\n",
      "fonttools                 4.56.0\n",
      "fqdn                      1.5.1\n",
      "frozenlist                1.7.0\n",
      "fsspec                    2024.6.1\n",
      "gitdb                     4.0.12\n",
      "GitPython                 3.1.44\n",
      "h11                       0.14.0\n",
      "hf-xet                    1.1.3\n",
      "httpcore                  1.0.7\n",
      "httpx                     0.28.1\n",
      "huggingface-hub           0.32.4\n",
      "idna                      3.10\n",
      "ipykernel                 6.29.5\n",
      "ipython                   9.0.2\n",
      "ipython_pygments_lexers   1.1.1\n",
      "isoduration               20.11.0\n",
      "jedi                      0.19.2\n",
      "Jinja2                    3.1.6\n",
      "joblib                    1.4.2\n",
      "json5                     0.10.0\n",
      "jsonpointer               3.0.0\n",
      "jsonschema                4.23.0\n",
      "jsonschema-specifications 2024.10.1\n",
      "jupyter_client            8.6.3\n",
      "jupyter_core              5.7.2\n",
      "jupyter-events            0.12.0\n",
      "jupyter-lsp               2.2.5\n",
      "jupyter_server            2.15.0\n",
      "jupyter-server-mathjax    0.2.6\n",
      "jupyter_server_terminals  0.5.3\n",
      "jupyterlab                4.3.6\n",
      "jupyterlab_git            0.51.0\n",
      "jupyterlab_pygments       0.3.0\n",
      "jupyterlab_server         2.27.3\n",
      "kiwisolver                1.4.8\n",
      "MarkupSafe                3.0.2\n",
      "matplotlib                3.10.1\n",
      "matplotlib-inline         0.1.7\n",
      "mistune                   3.1.2\n",
      "mpmath                    1.3.0\n",
      "multidict                 6.4.4\n",
      "multiprocess              0.70.16\n",
      "narwhals                  1.31.0\n",
      "nbclient                  0.10.2\n",
      "nbconvert                 7.16.6\n",
      "nbdime                    4.0.2\n",
      "nbformat                  5.10.4\n",
      "nest-asyncio              1.6.0\n",
      "networkx                  3.3\n",
      "notebook_shim             0.2.4\n",
      "numpy                     2.2.4\n",
      "overrides                 7.7.0\n",
      "packaging                 24.2\n",
      "pandas                    2.2.3\n",
      "pandocfilters             1.5.1\n",
      "parso                     0.8.4\n",
      "pexpect                   4.9.0\n",
      "pillow                    11.1.0\n",
      "pip                       25.1.1\n",
      "platformdirs              4.3.6\n",
      "plotly                    6.0.1\n",
      "prometheus_client         0.21.1\n",
      "prompt_toolkit            3.0.50\n",
      "propcache                 0.3.2\n",
      "psutil                    7.0.0\n",
      "ptyprocess                0.7.0\n",
      "pure_eval                 0.2.3\n",
      "pyarrow                   20.0.0\n",
      "pycparser                 2.22\n",
      "Pygments                  2.19.1\n",
      "pyparsing                 3.2.1\n",
      "python-dateutil           2.9.0.post0\n",
      "python-json-logger        3.3.0\n",
      "pytz                      2025.1\n",
      "PyYAML                    6.0.2\n",
      "pyzmq                     26.3.0\n",
      "referencing               0.36.2\n",
      "regex                     2024.11.6\n",
      "requests                  2.32.3\n",
      "rfc3339-validator         0.1.4\n",
      "rfc3986-validator         0.1.1\n",
      "rpds-py                   0.23.1\n",
      "safetensors               0.5.3\n",
      "scikit-learn              1.6.1\n",
      "scipy                     1.15.2\n",
      "seaborn                   0.13.2\n",
      "Send2Trash                1.8.3\n",
      "sentencepiece             0.2.0\n",
      "setuptools                76.0.0\n",
      "six                       1.17.0\n",
      "smmap                     5.0.2\n",
      "sniffio                   1.3.1\n",
      "soupsieve                 2.6\n",
      "stack-data                0.6.3\n",
      "sympy                     1.13.1\n",
      "terminado                 0.18.1\n",
      "threadpoolctl             3.6.0\n",
      "tinycss2                  1.4.0\n",
      "tokenizers                0.21.1\n",
      "torch                     2.6.0+cpu\n",
      "tornado                   6.4.2\n",
      "tqdm                      4.67.1\n",
      "traitlets                 5.14.3\n",
      "transformers              4.52.4\n",
      "types-python-dateutil     2.9.0.20241206\n",
      "typing_extensions         4.12.2\n",
      "tzdata                    2025.1\n",
      "uri-template              1.3.0\n",
      "urllib3                   2.3.0\n",
      "wcwidth                   0.2.13\n",
      "webcolors                 24.11.1\n",
      "webencodings              0.5.1\n",
      "websocket-client          1.8.0\n",
      "xxhash                    3.5.0\n",
      "yarl                      1.20.1\n"
     ]
    }
   ],
   "source": [
    "!pip list"
   ]
  },
  {
   "cell_type": "code",
   "execution_count": null,
   "id": "22a77c5f",
   "metadata": {},
   "outputs": [
    {
     "name": "stderr",
     "output_type": "stream",
     "text": [
      "613.89s - pydevd: Sending message related to process being replaced timed-out after 5 seconds\n"
     ]
    },
    {
     "name": "stdout",
     "output_type": "stream",
     "text": [
      "Collecting groq\n",
      "  Downloading groq-0.27.0-py3-none-any.whl.metadata (15 kB)\n",
      "Requirement already satisfied: anyio<5,>=3.5.0 in /home/codespace/.local/lib/python3.12/site-packages (from groq) (4.9.0)\n",
      "Collecting distro<2,>=1.7.0 (from groq)\n",
      "  Downloading distro-1.9.0-py3-none-any.whl.metadata (6.8 kB)\n",
      "Requirement already satisfied: httpx<1,>=0.23.0 in /home/codespace/.local/lib/python3.12/site-packages (from groq) (0.28.1)\n",
      "Collecting pydantic<3,>=1.9.0 (from groq)\n",
      "  Downloading pydantic-2.11.5-py3-none-any.whl.metadata (67 kB)\n",
      "Requirement already satisfied: sniffio in /home/codespace/.local/lib/python3.12/site-packages (from groq) (1.3.1)\n",
      "Requirement already satisfied: typing-extensions<5,>=4.10 in /home/codespace/.local/lib/python3.12/site-packages (from groq) (4.12.2)\n",
      "Requirement already satisfied: idna>=2.8 in /home/codespace/.local/lib/python3.12/site-packages (from anyio<5,>=3.5.0->groq) (3.10)\n",
      "Requirement already satisfied: certifi in /home/codespace/.local/lib/python3.12/site-packages (from httpx<1,>=0.23.0->groq) (2025.1.31)\n",
      "Requirement already satisfied: httpcore==1.* in /home/codespace/.local/lib/python3.12/site-packages (from httpx<1,>=0.23.0->groq) (1.0.7)\n",
      "Requirement already satisfied: h11<0.15,>=0.13 in /home/codespace/.local/lib/python3.12/site-packages (from httpcore==1.*->httpx<1,>=0.23.0->groq) (0.14.0)\n",
      "Collecting annotated-types>=0.6.0 (from pydantic<3,>=1.9.0->groq)\n",
      "  Downloading annotated_types-0.7.0-py3-none-any.whl.metadata (15 kB)\n",
      "Collecting pydantic-core==2.33.2 (from pydantic<3,>=1.9.0->groq)\n",
      "  Downloading pydantic_core-2.33.2-cp312-cp312-manylinux_2_17_x86_64.manylinux2014_x86_64.whl.metadata (6.8 kB)\n",
      "Collecting typing-inspection>=0.4.0 (from pydantic<3,>=1.9.0->groq)\n",
      "  Downloading typing_inspection-0.4.1-py3-none-any.whl.metadata (2.6 kB)\n",
      "Downloading groq-0.27.0-py3-none-any.whl (129 kB)\n",
      "Downloading distro-1.9.0-py3-none-any.whl (20 kB)\n",
      "Downloading pydantic-2.11.5-py3-none-any.whl (444 kB)\n",
      "Downloading pydantic_core-2.33.2-cp312-cp312-manylinux_2_17_x86_64.manylinux2014_x86_64.whl (2.0 MB)\n",
      "\u001b[2K   \u001b[90m━━━━━━━━━━━━━━━━━━━━━━━━━━━━━━━━━━━━━━━━\u001b[0m \u001b[32m2.0/2.0 MB\u001b[0m \u001b[31m15.3 MB/s\u001b[0m eta \u001b[36m0:00:00\u001b[0m\n",
      "\u001b[?25hDownloading annotated_types-0.7.0-py3-none-any.whl (13 kB)\n",
      "Downloading typing_inspection-0.4.1-py3-none-any.whl (14 kB)\n",
      "Installing collected packages: typing-inspection, pydantic-core, distro, annotated-types, pydantic, groq\n",
      "\u001b[2K   \u001b[90m━━━━━━━━━━━━━━━━━━━━━━━━━━━━━━━━━━━━━━━━\u001b[0m \u001b[32m6/6\u001b[0m [groq][32m5/6\u001b[0m [groq]tic]\n",
      "\u001b[1A\u001b[2KSuccessfully installed annotated-types-0.7.0 distro-1.9.0 groq-0.27.0 pydantic-2.11.5 pydantic-core-2.33.2 typing-inspection-0.4.1\n"
     ]
    }
   ],
   "source": [
    "!pip install groq"
   ]
  },
  {
   "cell_type": "code",
   "execution_count": null,
   "id": "524bf6d6",
   "metadata": {},
   "outputs": [],
   "source": []
  }
 ],
 "metadata": {
  "kernelspec": {
   "display_name": "Python 3",
   "language": "python",
   "name": "python3"
  },
  "language_info": {
   "codemirror_mode": {
    "name": "ipython",
    "version": 3
   },
   "file_extension": ".py",
   "mimetype": "text/x-python",
   "name": "python",
   "nbconvert_exporter": "python",
   "pygments_lexer": "ipython3",
   "version": "3.12.1"
  }
 },
 "nbformat": 4,
 "nbformat_minor": 5
}
